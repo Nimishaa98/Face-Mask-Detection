{
 "cells": [
  {
   "cell_type": "code",
   "execution_count": 51,
   "metadata": {
    "executionInfo": {
     "elapsed": 1349,
     "status": "ok",
     "timestamp": 1619800280551,
     "user": {
      "displayName": "Nimisha Agrawal",
      "photoUrl": "",
      "userId": "04267917870265197370"
     },
     "user_tz": -330
    },
    "id": "l6c_1tNkFDIu"
   },
   "outputs": [],
   "source": [
    "# imorting all the libraries\n",
    "import tensorflow\n",
    "import numpy\n",
    "from tensorflow.keras.preprocessing import image\n",
    "from tensorflow.keras.layers import Conv2D, MaxPool2D, Flatten, Dense, Dropout\n",
    "from tensorflow.keras.models import Sequential\n",
    "from keras.preprocessing.image import ImageDataGenerator\n",
    "import matplotlib.pyplot as plt\n",
    "import warnings\n",
    "warnings.filterwarnings('ignore')"
   ]
  },
  {
   "cell_type": "code",
   "execution_count": 52,
   "metadata": {
    "colab": {
     "base_uri": "https://localhost:8080/"
    },
    "executionInfo": {
     "elapsed": 1204,
     "status": "ok",
     "timestamp": 1619800285195,
     "user": {
      "displayName": "Nimisha Agrawal",
      "photoUrl": "",
      "userId": "04267917870265197370"
     },
     "user_tz": -330
    },
    "id": "2TYwha9KNQ_g",
    "outputId": "f238a99c-4d0b-4b03-e3ab-48a3bf7a464d"
   },
   "outputs": [
    {
     "name": "stdout",
     "output_type": "stream",
     "text": [
      "/content/drive/MyDrive/face mask dataset\n"
     ]
    }
   ],
   "source": [
    "cd /content/drive/MyDrive/face mask dataset"
   ]
  },
  {
   "cell_type": "code",
   "execution_count": 53,
   "metadata": {
    "executionInfo": {
     "elapsed": 949,
     "status": "ok",
     "timestamp": 1619800287084,
     "user": {
      "displayName": "Nimisha Agrawal",
      "photoUrl": "",
      "userId": "04267917870265197370"
     },
     "user_tz": -330
    },
    "id": "R5JaSn-rNVA3"
   },
   "outputs": [],
   "source": [
    "# !unzip 'face mask dataset.zip'"
   ]
  },
  {
   "cell_type": "code",
   "execution_count": 54,
   "metadata": {
    "colab": {
     "base_uri": "https://localhost:8080/"
    },
    "executionInfo": {
     "elapsed": 1045,
     "status": "ok",
     "timestamp": 1619800288706,
     "user": {
      "displayName": "Nimisha Agrawal",
      "photoUrl": "",
      "userId": "04267917870265197370"
     },
     "user_tz": -330
    },
    "id": "u3Z-sXCgNWhr",
    "outputId": "e72958dd-0edb-4ba0-e2a9-14c904b53672"
   },
   "outputs": [
    {
     "name": "stdout",
     "output_type": "stream",
     "text": [
      " \u001b[0m\u001b[01;34mdata\u001b[0m/                       saved_model.h5\n",
      "'face mask dataset.zip'      young-man-wearing-black-face-260nw-1696092880.webp\n",
      " face_mask_detection.ipynb\n"
     ]
    }
   ],
   "source": [
    "ls"
   ]
  },
  {
   "cell_type": "code",
   "execution_count": 55,
   "metadata": {
    "executionInfo": {
     "elapsed": 1161,
     "status": "ok",
     "timestamp": 1619800293227,
     "user": {
      "displayName": "Nimisha Agrawal",
      "photoUrl": "",
      "userId": "04267917870265197370"
     },
     "user_tz": -330
    },
    "id": "ay4hhYEmN-M_"
   },
   "outputs": [],
   "source": [
    "epochs= 10\n",
    "data_path= '/content/drive/MyDrive/face mask dataset/data'"
   ]
  },
  {
   "cell_type": "code",
   "execution_count": 56,
   "metadata": {
    "executionInfo": {
     "elapsed": 1232,
     "status": "ok",
     "timestamp": 1619800295362,
     "user": {
      "displayName": "Nimisha Agrawal",
      "photoUrl": "",
      "userId": "04267917870265197370"
     },
     "user_tz": -330
    },
    "id": "lR_KkK5lOlk2"
   },
   "outputs": [],
   "source": [
    "data_gen= ImageDataGenerator(rescale=1./255, shear_range=0.2, zoom_range=0.2, horizontal_flip=True, validation_split=0.25)"
   ]
  },
  {
   "cell_type": "code",
   "execution_count": 57,
   "metadata": {
    "colab": {
     "base_uri": "https://localhost:8080/"
    },
    "executionInfo": {
     "elapsed": 1182,
     "status": "ok",
     "timestamp": 1619800297380,
     "user": {
      "displayName": "Nimisha Agrawal",
      "photoUrl": "",
      "userId": "04267917870265197370"
     },
     "user_tz": -330
    },
    "id": "ZbmZYwQUPbWM",
    "outputId": "6d1a51b9-74ef-4618-d8f4-abe8958b94d0"
   },
   "outputs": [
    {
     "name": "stdout",
     "output_type": "stream",
     "text": [
      "Found 5665 images belonging to 2 classes.\n",
      "Found 1888 images belonging to 2 classes.\n"
     ]
    }
   ],
   "source": [
    "train_dataset=data_gen.flow_from_directory(data_path, target_size=(64,64), batch_size=55, class_mode='binary', subset='training')\n",
    "test_dataset=data_gen.flow_from_directory(data_path, target_size=(64,64), batch_size=32, class_mode='binary', subset= 'validation')"
   ]
  },
  {
   "cell_type": "code",
   "execution_count": 58,
   "metadata": {
    "executionInfo": {
     "elapsed": 1163,
     "status": "ok",
     "timestamp": 1619800301248,
     "user": {
      "displayName": "Nimisha Agrawal",
      "photoUrl": "",
      "userId": "04267917870265197370"
     },
     "user_tz": -330
    },
    "id": "xxKi0DSlPdUL"
   },
   "outputs": [],
   "source": [
    "# Define Architecture\n",
    "\n",
    "classifier = Sequential()\n",
    "\n",
    "classifier.add(Conv2D(32,3,activation='relu', kernel_initializer='he_uniform', input_shape=(64,64,3)))\n",
    "classifier.add(MaxPool2D())\n",
    "\n",
    "classifier.add(Conv2D(64,3,activation='relu', kernel_initializer='he_uniform'))\n",
    "classifier.add(MaxPool2D())\n",
    "\n",
    "classifier.add(Flatten())\n",
    "\n",
    "classifier.add(Dense(128, activation='relu', kernel_initializer='he_uniform'))\n",
    "\n",
    "classifier.add(Dense(1, activation='sigmoid'))"
   ]
  },
  {
   "cell_type": "code",
   "execution_count": 59,
   "metadata": {
    "executionInfo": {
     "elapsed": 629,
     "status": "ok",
     "timestamp": 1619800302616,
     "user": {
      "displayName": "Nimisha Agrawal",
      "photoUrl": "",
      "userId": "04267917870265197370"
     },
     "user_tz": -330
    },
    "id": "9O28bhz6QIlv"
   },
   "outputs": [],
   "source": [
    "# Compile\n",
    "\n",
    "classifier.compile('adam', loss='binary_crossentropy', metrics=['accuracy'])"
   ]
  },
  {
   "cell_type": "code",
   "execution_count": 60,
   "metadata": {
    "colab": {
     "base_uri": "https://localhost:8080/"
    },
    "executionInfo": {
     "elapsed": 401034,
     "status": "ok",
     "timestamp": 1619800704552,
     "user": {
      "displayName": "Nimisha Agrawal",
      "photoUrl": "",
      "userId": "04267917870265197370"
     },
     "user_tz": -330
    },
    "id": "FZfE8ZFzQPRd",
    "outputId": "31d10762-308c-4d38-dc49-c5ef75c88a5e"
   },
   "outputs": [
    {
     "name": "stdout",
     "output_type": "stream",
     "text": [
      "Epoch 1/10\n",
      "103/103 [==============================] - 122s 1s/step - loss: 1.0863 - accuracy: 0.7029 - val_loss: 0.3480 - val_accuracy: 0.8639\n",
      "Epoch 2/10\n",
      "103/103 [==============================] - 31s 297ms/step - loss: 0.2929 - accuracy: 0.8859 - val_loss: 0.2069 - val_accuracy: 0.9248\n",
      "Epoch 3/10\n",
      "103/103 [==============================] - 30s 297ms/step - loss: 0.2323 - accuracy: 0.9072 - val_loss: 0.2271 - val_accuracy: 0.9195\n",
      "Epoch 4/10\n",
      "103/103 [==============================] - 31s 299ms/step - loss: 0.2182 - accuracy: 0.9103 - val_loss: 0.2067 - val_accuracy: 0.9248\n",
      "Epoch 5/10\n",
      "103/103 [==============================] - 31s 299ms/step - loss: 0.1921 - accuracy: 0.9210 - val_loss: 0.2462 - val_accuracy: 0.9089\n",
      "Epoch 6/10\n",
      "103/103 [==============================] - 30s 296ms/step - loss: 0.1784 - accuracy: 0.9281 - val_loss: 0.2066 - val_accuracy: 0.9269\n",
      "Epoch 7/10\n",
      "103/103 [==============================] - 31s 298ms/step - loss: 0.1757 - accuracy: 0.9301 - val_loss: 0.2157 - val_accuracy: 0.9232\n",
      "Epoch 8/10\n",
      "103/103 [==============================] - 30s 296ms/step - loss: 0.1428 - accuracy: 0.9462 - val_loss: 0.2148 - val_accuracy: 0.9206\n",
      "Epoch 9/10\n",
      "103/103 [==============================] - 31s 298ms/step - loss: 0.1220 - accuracy: 0.9543 - val_loss: 0.1824 - val_accuracy: 0.9407\n",
      "Epoch 10/10\n",
      "103/103 [==============================] - 30s 294ms/step - loss: 0.1157 - accuracy: 0.9534 - val_loss: 0.1901 - val_accuracy: 0.9338\n"
     ]
    },
    {
     "data": {
      "text/plain": [
       "<tensorflow.python.keras.callbacks.History at 0x7f24f81dd6d0>"
      ]
     },
     "execution_count": 60,
     "metadata": {
      "tags": []
     },
     "output_type": "execute_result"
    }
   ],
   "source": [
    "# Fit the model\n",
    "\n",
    "classifier.fit(train_dataset, epochs=epochs,  validation_data=test_dataset)"
   ]
  },
  {
   "cell_type": "code",
   "execution_count": 44,
   "metadata": {
    "executionInfo": {
     "elapsed": 956,
     "status": "ok",
     "timestamp": 1619798415483,
     "user": {
      "displayName": "Nimisha Agrawal",
      "photoUrl": "",
      "userId": "04267917870265197370"
     },
     "user_tz": -330
    },
    "id": "jhc0y7igQYfr"
   },
   "outputs": [],
   "source": [
    "# to save the model\n",
    "\n",
    "classifier.save('/content/drive/MyDrive/face mask dataset/saved_model.h5')"
   ]
  },
  {
   "cell_type": "code",
   "execution_count": 45,
   "metadata": {
    "executionInfo": {
     "elapsed": 1566,
     "status": "ok",
     "timestamp": 1619798417775,
     "user": {
      "displayName": "Nimisha Agrawal",
      "photoUrl": "",
      "userId": "04267917870265197370"
     },
     "user_tz": -330
    },
    "id": "Iqz-tQOuUU_3"
   },
   "outputs": [],
   "source": [
    "# to load the model\n",
    "from tensorflow.keras.models import load_model\n",
    "\n",
    "model= load_model('/content/drive/MyDrive/face mask dataset/saved_model.h5')"
   ]
  },
  {
   "cell_type": "code",
   "execution_count": 46,
   "metadata": {
    "colab": {
     "base_uri": "https://localhost:8080/"
    },
    "executionInfo": {
     "elapsed": 2346,
     "status": "ok",
     "timestamp": 1619798420644,
     "user": {
      "displayName": "Nimisha Agrawal",
      "photoUrl": "",
      "userId": "04267917870265197370"
     },
     "user_tz": -330
    },
    "id": "zBrAQDt8Uh5d",
    "outputId": "d8344873-24f6-4811-ec05-7507ffb76779"
   },
   "outputs": [
    {
     "data": {
      "text/plain": [
       "{'with_mask': 0, 'without_mask': 1}"
      ]
     },
     "execution_count": 46,
     "metadata": {
      "tags": []
     },
     "output_type": "execute_result"
    }
   ],
   "source": [
    "train_dataset.class_indices"
   ]
  },
  {
   "cell_type": "code",
   "execution_count": 49,
   "metadata": {
    "executionInfo": {
     "elapsed": 984,
     "status": "ok",
     "timestamp": 1619798435351,
     "user": {
      "displayName": "Nimisha Agrawal",
      "photoUrl": "",
      "userId": "04267917870265197370"
     },
     "user_tz": -330
    },
    "id": "XISxEnMhUcN3"
   },
   "outputs": [],
   "source": [
    "from tensorflow.keras.preprocessing import image\n",
    "\n",
    "test_image = image.load_img('/content/drive/MyDrive/face mask dataset/data/without_mask/without_mask_3.jpg', target_size=(64,64))  # to read the image for single prediction\n",
    "test_image = image.img_to_array(test_image)\n",
    "test_image=test_image.reshape(1,64,64,3)\n",
    "\n",
    "result=model.predict(test_image)"
   ]
  },
  {
   "cell_type": "code",
   "execution_count": 50,
   "metadata": {
    "colab": {
     "base_uri": "https://localhost:8080/"
    },
    "executionInfo": {
     "elapsed": 874,
     "status": "ok",
     "timestamp": 1619798436842,
     "user": {
      "displayName": "Nimisha Agrawal",
      "photoUrl": "",
      "userId": "04267917870265197370"
     },
     "user_tz": -330
    },
    "id": "Lo9ycU81U95A",
    "outputId": "9c5a22f9-e078-4571-dc3e-72fd1b77054c"
   },
   "outputs": [
    {
     "name": "stdout",
     "output_type": "stream",
     "text": [
      "without_mask\n"
     ]
    }
   ],
   "source": [
    "if result[0][0] == 1:\n",
    "  prediction = 'without_mask'\n",
    "else:\n",
    "  prediction = 'with_mask'\n",
    "print(prediction)"
   ]
  },
  {
   "cell_type": "code",
   "execution_count": 31,
   "metadata": {
    "executionInfo": {
     "elapsed": 1134,
     "status": "ok",
     "timestamp": 1619797630009,
     "user": {
      "displayName": "Nimisha Agrawal",
      "photoUrl": "",
      "userId": "04267917870265197370"
     },
     "user_tz": -330
    },
    "id": "rrcEU6gCV0f8"
   },
   "outputs": [],
   "source": []
  }
 ],
 "metadata": {
  "accelerator": "GPU",
  "colab": {
   "authorship_tag": "ABX9TyPTI+oMDllj2LSN2iJ6s+7d",
   "mount_file_id": "1rTK1gwTbInaHKdH2B9aBpD7g4GDASF4a",
   "name": "face_mask_detection.ipynb",
   "provenance": []
  },
  "kernelspec": {
   "display_name": "Python 3",
   "language": "python",
   "name": "python3"
  },
  "language_info": {
   "codemirror_mode": {
    "name": "ipython",
    "version": 3
   },
   "file_extension": ".py",
   "mimetype": "text/x-python",
   "name": "python",
   "nbconvert_exporter": "python",
   "pygments_lexer": "ipython3",
   "version": "3.8.3"
  }
 },
 "nbformat": 4,
 "nbformat_minor": 1
}
